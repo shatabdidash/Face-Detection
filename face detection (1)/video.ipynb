{
 "cells": [
  {
   "cell_type": "code",
   "execution_count": 1,
   "id": "b5d25b40",
   "metadata": {},
   "outputs": [
    {
     "name": "stdout",
     "output_type": "stream",
     "text": [
      "END OF PROGRAM\n"
     ]
    }
   ],
   "source": [
    "import cv2\n",
    "\n",
    "from random import randrange as r\n",
    "\n",
    "trainedData=cv2.CascadeClassifier('face.xml')\n",
    "\n",
    "clip=cv2.VideoCapture('clip.mp4')\n",
    "\n",
    "while True:\n",
    "    \n",
    "    success,frame=clip.read()\n",
    "\n",
    "    faceCoordinates=trainedData.detectMultiScale(frame)\n",
    "\n",
    "    for x,y,w,h in faceCoordinates:\n",
    "        cv2.rectangle(frame,(x,y),(x+w,y+h),(r(0,256),r(0,256),r(0,256)),2)\n",
    "\n",
    "    cv2.imshow('Window',frame)\n",
    "    key=cv2.waitKey(1)\n",
    "    if(key==81 or key==113):\n",
    "        break\n",
    "\n",
    "\n",
    "print('END OF PROGRAM')"
   ]
  },
  {
   "cell_type": "code",
   "execution_count": null,
   "id": "eab91b0b",
   "metadata": {},
   "outputs": [],
   "source": []
  },
  {
   "cell_type": "code",
   "execution_count": null,
   "id": "b2183eba",
   "metadata": {},
   "outputs": [],
   "source": []
  }
 ],
 "metadata": {
  "kernelspec": {
   "display_name": "Python 3",
   "language": "python",
   "name": "python3"
  },
  "language_info": {
   "codemirror_mode": {
    "name": "ipython",
    "version": 3
   },
   "file_extension": ".py",
   "mimetype": "text/x-python",
   "name": "python",
   "nbconvert_exporter": "python",
   "pygments_lexer": "ipython3",
   "version": "3.8.8"
  }
 },
 "nbformat": 4,
 "nbformat_minor": 5
}
